{
 "cells": [
  {
   "cell_type": "markdown",
   "metadata": {},
   "source": [
    "# Modeling"
   ]
  },
  {
   "cell_type": "markdown",
   "metadata": {},
   "source": [
    "## Step 1: Importing the libraries"
   ]
  },
  {
   "cell_type": "code",
   "execution_count": 1,
   "metadata": {},
   "outputs": [],
   "source": [
    "import numpy as np\n",
    "import pandas as pd\n",
    "import math\n",
    "\n",
    "import matplotlib.pyplot as plt\n",
    "import seaborn as sns\n",
    "\n",
    "from sklearn.model_selection import train_test_split\n",
    "from sklearn.model_selection import GridSearchCV\n",
    "\n",
    "from sklearn.preprocessing import StandardScaler\n",
    "\n",
    "from sklearn.metrics import roc_auc_score, plot_roc_curve\n",
    "from sklearn.metrics import mean_squared_error, r2_score\n",
    "from sklearn.metrics import confusion_matrix\n",
    "from sklearn.metrics import precision_score, recall_score, f1_score, accuracy_score\n",
    "from sklearn.metrics import roc_curve\n",
    "from sklearn.metrics import roc_auc_score, plot_roc_curve\n",
    "\n",
    "from sklearn.ensemble import RandomForestClassifier\n",
    "from sklearn import metrics\n",
    "from sklearn.inspection import permutation_importance\n",
    "from matplotlib.pyplot import figure\n",
    "\n"
   ]
  },
  {
   "cell_type": "markdown",
   "metadata": {},
   "source": [
    "## Step 2: Reading the data"
   ]
  },
  {
   "cell_type": "code",
   "execution_count": 2,
   "metadata": {},
   "outputs": [],
   "source": [
    "df_combined = pd.read_csv('/Users/ksah4444/Documents/UFC_ML_Prediction/data/Clean_Data/df_combined.csv')"
   ]
  },
  {
   "cell_type": "code",
   "execution_count": 3,
   "metadata": {},
   "outputs": [],
   "source": [
    "df_combined.drop(['Unnamed: 0'], axis = 1, inplace=True)"
   ]
  },
  {
   "cell_type": "markdown",
   "metadata": {},
   "source": [
    "## Target + Feature Engineering"
   ]
  },
  {
   "cell_type": "markdown",
   "metadata": {},
   "source": [
    "## Target engineering"
   ]
  },
  {
   "cell_type": "markdown",
   "metadata": {},
   "source": [
    "#### Since the target we have is a binary variable, there is no target engineering to be done. \n",
    "#### Perhaps the only taget engineering we have conducted was in the cleaning phase, when I got ride of rows with no winner in them. I also got rid of fights that ended with a DQ win because I don't think they add to the accuracy of my model"
   ]
  },
  {
   "cell_type": "markdown",
   "metadata": {},
   "source": [
    "## Feature engineering"
   ]
  },
  {
   "cell_type": "markdown",
   "metadata": {},
   "source": [
    "### Dealing with missigness"
   ]
  },
  {
   "cell_type": "markdown",
   "metadata": {},
   "source": [
    "#### Again, most of the target and feature engineering was conducted during the cleaning phase.\n",
    "#### What we did was mostly, amputating missing values. Except for the \"reach\" column where we used the \"height\" column values to fill in the missing values as explained in that sectio."
   ]
  },
  {
   "cell_type": "markdown",
   "metadata": {},
   "source": [
    "### Numeric feature engineering"
   ]
  },
  {
   "cell_type": "markdown",
   "metadata": {},
   "source": [
    "### Numeric feature filtering"
   ]
  },
  {
   "cell_type": "code",
   "execution_count": 4,
   "metadata": {},
   "outputs": [],
   "source": [
    "# We don't need the \"indexfighter1,2\" (not needed), \"ape_indexfighter1,2\" (redundant), \"weightfighter1,2\" (redudant). (6 columns)\n",
    "df_combined.drop(['indexfighter1','indexfighter2','ape_indexfighter1','ape_indexfighter2',\n",
    "'weightfighter1','weightfighter2'], axis = 1, inplace=True)"
   ]
  },
  {
   "cell_type": "markdown",
   "metadata": {},
   "source": [
    "### Normalization & Standarization"
   ]
  },
  {
   "cell_type": "markdown",
   "metadata": {},
   "source": [
    "#### when in doubt, normalize."
   ]
  },
  {
   "cell_type": "markdown",
   "metadata": {},
   "source": [
    "### Categorical feature filtering"
   ]
  },
  {
   "cell_type": "code",
   "execution_count": 5,
   "metadata": {},
   "outputs": [],
   "source": [
    "# We don't need the \"date\" (not needed), \"location\" (not needed), \"Fight_type\" (redundant). (3 columns)\n",
    "df_combined.drop([\"date\",\"location\", \"Fight_type\"], axis = 1, inplace=True)"
   ]
  },
  {
   "cell_type": "code",
   "execution_count": 6,
   "metadata": {},
   "outputs": [],
   "source": [
    "# Encode the caterogical data\n",
    "cats = [\"win_by\", \"weight_classfighter1\", \"weight_classfighter2\"]"
   ]
  },
  {
   "cell_type": "code",
   "execution_count": 7,
   "metadata": {},
   "outputs": [
    {
     "data": {
      "text/html": [
       "<div>\n",
       "<style scoped>\n",
       "    .dataframe tbody tr th:only-of-type {\n",
       "        vertical-align: middle;\n",
       "    }\n",
       "\n",
       "    .dataframe tbody tr th {\n",
       "        vertical-align: top;\n",
       "    }\n",
       "\n",
       "    .dataframe thead th {\n",
       "        text-align: right;\n",
       "    }\n",
       "</style>\n",
       "<table border=\"1\" class=\"dataframe\">\n",
       "  <thead>\n",
       "    <tr style=\"text-align: right;\">\n",
       "      <th></th>\n",
       "      <th>R_fighter</th>\n",
       "      <th>B_fighter</th>\n",
       "      <th>win_by</th>\n",
       "      <th>last_round</th>\n",
       "      <th>Winner</th>\n",
       "      <th>Agefighter1</th>\n",
       "      <th>weight_classfighter1</th>\n",
       "      <th>height_cmfighter1</th>\n",
       "      <th>reach_cmfighter1</th>\n",
       "      <th>Number_of_fightsfighter1</th>\n",
       "      <th>...</th>\n",
       "      <th>Number_of_fightsfighter2</th>\n",
       "      <th>win_percentagefighter2</th>\n",
       "      <th>O_SLpMfighter2</th>\n",
       "      <th>O_StrPctfighter2</th>\n",
       "      <th>D_SApMfighter2</th>\n",
       "      <th>D_StrPctfighter2</th>\n",
       "      <th>O_TdAvgfighter2</th>\n",
       "      <th>O_TdAccfighter2</th>\n",
       "      <th>O_SubAvgfighter2</th>\n",
       "      <th>D_TdPctfighter2</th>\n",
       "    </tr>\n",
       "  </thead>\n",
       "  <tbody>\n",
       "    <tr>\n",
       "      <th>0</th>\n",
       "      <td>Adrian Yanez</td>\n",
       "      <td>Gustavo Lopez</td>\n",
       "      <td>3</td>\n",
       "      <td>3</td>\n",
       "      <td>1</td>\n",
       "      <td>28</td>\n",
       "      <td>0</td>\n",
       "      <td>170.0</td>\n",
       "      <td>178.0</td>\n",
       "      <td>18</td>\n",
       "      <td>...</td>\n",
       "      <td>19</td>\n",
       "      <td>0.631579</td>\n",
       "      <td>2.48</td>\n",
       "      <td>0.40</td>\n",
       "      <td>3.87</td>\n",
       "      <td>0.57</td>\n",
       "      <td>1.74</td>\n",
       "      <td>0.41</td>\n",
       "      <td>0.7</td>\n",
       "      <td>0.31</td>\n",
       "    </tr>\n",
       "    <tr>\n",
       "      <th>1</th>\n",
       "      <td>Trevin Giles</td>\n",
       "      <td>Roman Dolidze</td>\n",
       "      <td>2</td>\n",
       "      <td>3</td>\n",
       "      <td>1</td>\n",
       "      <td>29</td>\n",
       "      <td>6</td>\n",
       "      <td>183.0</td>\n",
       "      <td>188.0</td>\n",
       "      <td>18</td>\n",
       "      <td>...</td>\n",
       "      <td>10</td>\n",
       "      <td>0.900000</td>\n",
       "      <td>2.36</td>\n",
       "      <td>0.48</td>\n",
       "      <td>1.40</td>\n",
       "      <td>0.64</td>\n",
       "      <td>2.74</td>\n",
       "      <td>0.52</td>\n",
       "      <td>1.5</td>\n",
       "      <td>0.37</td>\n",
       "    </tr>\n",
       "    <tr>\n",
       "      <th>2</th>\n",
       "      <td>Harry Hunsucker</td>\n",
       "      <td>Tai Tuivasa</td>\n",
       "      <td>3</td>\n",
       "      <td>1</td>\n",
       "      <td>0</td>\n",
       "      <td>33</td>\n",
       "      <td>3</td>\n",
       "      <td>188.0</td>\n",
       "      <td>190.0</td>\n",
       "      <td>12</td>\n",
       "      <td>...</td>\n",
       "      <td>18</td>\n",
       "      <td>0.833333</td>\n",
       "      <td>4.54</td>\n",
       "      <td>0.52</td>\n",
       "      <td>3.56</td>\n",
       "      <td>0.48</td>\n",
       "      <td>0.00</td>\n",
       "      <td>0.00</td>\n",
       "      <td>0.0</td>\n",
       "      <td>0.50</td>\n",
       "    </tr>\n",
       "    <tr>\n",
       "      <th>3</th>\n",
       "      <td>Marion Reneau</td>\n",
       "      <td>Macy Chiasson</td>\n",
       "      <td>2</td>\n",
       "      <td>3</td>\n",
       "      <td>0</td>\n",
       "      <td>44</td>\n",
       "      <td>0</td>\n",
       "      <td>168.0</td>\n",
       "      <td>173.0</td>\n",
       "      <td>18</td>\n",
       "      <td>...</td>\n",
       "      <td>10</td>\n",
       "      <td>0.800000</td>\n",
       "      <td>4.04</td>\n",
       "      <td>0.46</td>\n",
       "      <td>2.56</td>\n",
       "      <td>0.45</td>\n",
       "      <td>1.08</td>\n",
       "      <td>0.23</td>\n",
       "      <td>0.4</td>\n",
       "      <td>0.64</td>\n",
       "    </tr>\n",
       "    <tr>\n",
       "      <th>4</th>\n",
       "      <td>Leonardo Santos</td>\n",
       "      <td>Grant Dawson</td>\n",
       "      <td>3</td>\n",
       "      <td>3</td>\n",
       "      <td>0</td>\n",
       "      <td>42</td>\n",
       "      <td>5</td>\n",
       "      <td>183.0</td>\n",
       "      <td>190.0</td>\n",
       "      <td>25</td>\n",
       "      <td>...</td>\n",
       "      <td>19</td>\n",
       "      <td>0.894737</td>\n",
       "      <td>3.06</td>\n",
       "      <td>0.50</td>\n",
       "      <td>2.05</td>\n",
       "      <td>0.49</td>\n",
       "      <td>3.36</td>\n",
       "      <td>0.32</td>\n",
       "      <td>1.3</td>\n",
       "      <td>0.40</td>\n",
       "    </tr>\n",
       "    <tr>\n",
       "      <th>...</th>\n",
       "      <td>...</td>\n",
       "      <td>...</td>\n",
       "      <td>...</td>\n",
       "      <td>...</td>\n",
       "      <td>...</td>\n",
       "      <td>...</td>\n",
       "      <td>...</td>\n",
       "      <td>...</td>\n",
       "      <td>...</td>\n",
       "      <td>...</td>\n",
       "      <td>...</td>\n",
       "      <td>...</td>\n",
       "      <td>...</td>\n",
       "      <td>...</td>\n",
       "      <td>...</td>\n",
       "      <td>...</td>\n",
       "      <td>...</td>\n",
       "      <td>...</td>\n",
       "      <td>...</td>\n",
       "      <td>...</td>\n",
       "      <td>...</td>\n",
       "    </tr>\n",
       "    <tr>\n",
       "      <th>5612</th>\n",
       "      <td>Don Frye</td>\n",
       "      <td>Mark Coleman</td>\n",
       "      <td>3</td>\n",
       "      <td>1</td>\n",
       "      <td>0</td>\n",
       "      <td>56</td>\n",
       "      <td>3</td>\n",
       "      <td>185.0</td>\n",
       "      <td>185.0</td>\n",
       "      <td>30</td>\n",
       "      <td>...</td>\n",
       "      <td>26</td>\n",
       "      <td>0.615385</td>\n",
       "      <td>1.88</td>\n",
       "      <td>0.52</td>\n",
       "      <td>2.62</td>\n",
       "      <td>0.40</td>\n",
       "      <td>3.89</td>\n",
       "      <td>0.40</td>\n",
       "      <td>0.8</td>\n",
       "      <td>0.50</td>\n",
       "    </tr>\n",
       "    <tr>\n",
       "      <th>5613</th>\n",
       "      <td>Mark Coleman</td>\n",
       "      <td>Gary Goodridge</td>\n",
       "      <td>4</td>\n",
       "      <td>1</td>\n",
       "      <td>1</td>\n",
       "      <td>57</td>\n",
       "      <td>4</td>\n",
       "      <td>185.0</td>\n",
       "      <td>190.0</td>\n",
       "      <td>26</td>\n",
       "      <td>...</td>\n",
       "      <td>46</td>\n",
       "      <td>0.500000</td>\n",
       "      <td>1.84</td>\n",
       "      <td>0.56</td>\n",
       "      <td>2.14</td>\n",
       "      <td>0.48</td>\n",
       "      <td>0.40</td>\n",
       "      <td>1.00</td>\n",
       "      <td>0.8</td>\n",
       "      <td>0.53</td>\n",
       "    </tr>\n",
       "    <tr>\n",
       "      <th>5614</th>\n",
       "      <td>Don Frye</td>\n",
       "      <td>Gary Goodridge</td>\n",
       "      <td>3</td>\n",
       "      <td>1</td>\n",
       "      <td>1</td>\n",
       "      <td>56</td>\n",
       "      <td>3</td>\n",
       "      <td>185.0</td>\n",
       "      <td>185.0</td>\n",
       "      <td>30</td>\n",
       "      <td>...</td>\n",
       "      <td>46</td>\n",
       "      <td>0.500000</td>\n",
       "      <td>1.84</td>\n",
       "      <td>0.56</td>\n",
       "      <td>2.14</td>\n",
       "      <td>0.48</td>\n",
       "      <td>0.40</td>\n",
       "      <td>1.00</td>\n",
       "      <td>0.8</td>\n",
       "      <td>0.53</td>\n",
       "    </tr>\n",
       "    <tr>\n",
       "      <th>5615</th>\n",
       "      <td>Ken Shamrock</td>\n",
       "      <td>Kimo Leopoldo</td>\n",
       "      <td>4</td>\n",
       "      <td>1</td>\n",
       "      <td>1</td>\n",
       "      <td>58</td>\n",
       "      <td>4</td>\n",
       "      <td>185.0</td>\n",
       "      <td>183.0</td>\n",
       "      <td>47</td>\n",
       "      <td>...</td>\n",
       "      <td>18</td>\n",
       "      <td>0.555556</td>\n",
       "      <td>0.76</td>\n",
       "      <td>0.83</td>\n",
       "      <td>2.12</td>\n",
       "      <td>0.30</td>\n",
       "      <td>4.55</td>\n",
       "      <td>1.00</td>\n",
       "      <td>2.3</td>\n",
       "      <td>0.00</td>\n",
       "    </tr>\n",
       "    <tr>\n",
       "      <th>5616</th>\n",
       "      <td>Royce Gracie</td>\n",
       "      <td>Kimo Leopoldo</td>\n",
       "      <td>4</td>\n",
       "      <td>1</td>\n",
       "      <td>1</td>\n",
       "      <td>55</td>\n",
       "      <td>6</td>\n",
       "      <td>185.0</td>\n",
       "      <td>185.0</td>\n",
       "      <td>20</td>\n",
       "      <td>...</td>\n",
       "      <td>18</td>\n",
       "      <td>0.555556</td>\n",
       "      <td>0.76</td>\n",
       "      <td>0.83</td>\n",
       "      <td>2.12</td>\n",
       "      <td>0.30</td>\n",
       "      <td>4.55</td>\n",
       "      <td>1.00</td>\n",
       "      <td>2.3</td>\n",
       "      <td>0.00</td>\n",
       "    </tr>\n",
       "  </tbody>\n",
       "</table>\n",
       "<p>5617 rows × 33 columns</p>\n",
       "</div>"
      ],
      "text/plain": [
       "            R_fighter       B_fighter  win_by  last_round  Winner  \\\n",
       "0        Adrian Yanez   Gustavo Lopez       3           3       1   \n",
       "1        Trevin Giles   Roman Dolidze       2           3       1   \n",
       "2     Harry Hunsucker     Tai Tuivasa       3           1       0   \n",
       "3       Marion Reneau   Macy Chiasson       2           3       0   \n",
       "4     Leonardo Santos    Grant Dawson       3           3       0   \n",
       "...               ...             ...     ...         ...     ...   \n",
       "5612         Don Frye    Mark Coleman       3           1       0   \n",
       "5613     Mark Coleman  Gary Goodridge       4           1       1   \n",
       "5614         Don Frye  Gary Goodridge       3           1       1   \n",
       "5615     Ken Shamrock   Kimo Leopoldo       4           1       1   \n",
       "5616     Royce Gracie   Kimo Leopoldo       4           1       1   \n",
       "\n",
       "      Agefighter1  weight_classfighter1  height_cmfighter1  reach_cmfighter1  \\\n",
       "0              28                     0              170.0             178.0   \n",
       "1              29                     6              183.0             188.0   \n",
       "2              33                     3              188.0             190.0   \n",
       "3              44                     0              168.0             173.0   \n",
       "4              42                     5              183.0             190.0   \n",
       "...           ...                   ...                ...               ...   \n",
       "5612           56                     3              185.0             185.0   \n",
       "5613           57                     4              185.0             190.0   \n",
       "5614           56                     3              185.0             185.0   \n",
       "5615           58                     4              185.0             183.0   \n",
       "5616           55                     6              185.0             185.0   \n",
       "\n",
       "      Number_of_fightsfighter1  ...  Number_of_fightsfighter2  \\\n",
       "0                           18  ...                        19   \n",
       "1                           18  ...                        10   \n",
       "2                           12  ...                        18   \n",
       "3                           18  ...                        10   \n",
       "4                           25  ...                        19   \n",
       "...                        ...  ...                       ...   \n",
       "5612                        30  ...                        26   \n",
       "5613                        26  ...                        46   \n",
       "5614                        30  ...                        46   \n",
       "5615                        47  ...                        18   \n",
       "5616                        20  ...                        18   \n",
       "\n",
       "      win_percentagefighter2  O_SLpMfighter2  O_StrPctfighter2  \\\n",
       "0                   0.631579            2.48              0.40   \n",
       "1                   0.900000            2.36              0.48   \n",
       "2                   0.833333            4.54              0.52   \n",
       "3                   0.800000            4.04              0.46   \n",
       "4                   0.894737            3.06              0.50   \n",
       "...                      ...             ...               ...   \n",
       "5612                0.615385            1.88              0.52   \n",
       "5613                0.500000            1.84              0.56   \n",
       "5614                0.500000            1.84              0.56   \n",
       "5615                0.555556            0.76              0.83   \n",
       "5616                0.555556            0.76              0.83   \n",
       "\n",
       "      D_SApMfighter2  D_StrPctfighter2  O_TdAvgfighter2  O_TdAccfighter2  \\\n",
       "0               3.87              0.57             1.74             0.41   \n",
       "1               1.40              0.64             2.74             0.52   \n",
       "2               3.56              0.48             0.00             0.00   \n",
       "3               2.56              0.45             1.08             0.23   \n",
       "4               2.05              0.49             3.36             0.32   \n",
       "...              ...               ...              ...              ...   \n",
       "5612            2.62              0.40             3.89             0.40   \n",
       "5613            2.14              0.48             0.40             1.00   \n",
       "5614            2.14              0.48             0.40             1.00   \n",
       "5615            2.12              0.30             4.55             1.00   \n",
       "5616            2.12              0.30             4.55             1.00   \n",
       "\n",
       "      O_SubAvgfighter2  D_TdPctfighter2  \n",
       "0                  0.7             0.31  \n",
       "1                  1.5             0.37  \n",
       "2                  0.0             0.50  \n",
       "3                  0.4             0.64  \n",
       "4                  1.3             0.40  \n",
       "...                ...              ...  \n",
       "5612               0.8             0.50  \n",
       "5613               0.8             0.53  \n",
       "5614               0.8             0.53  \n",
       "5615               2.3             0.00  \n",
       "5616               2.3             0.00  \n",
       "\n",
       "[5617 rows x 33 columns]"
      ]
     },
     "execution_count": 7,
     "metadata": {},
     "output_type": "execute_result"
    }
   ],
   "source": [
    "# Encode the caterogical data\n",
    "for cat in cats:\n",
    "    df_combined[cat].fillna(\"unk\", inplace=True)\n",
    "    df_combined[cat] = df_combined[cat].astype(\"category\")\n",
    "df_combined[cats] = df_combined[cats].apply(lambda col: col.cat.codes)\n",
    "df_combined"
   ]
  },
  {
   "cell_type": "markdown",
   "metadata": {},
   "source": [
    "## Random Forests"
   ]
  },
  {
   "cell_type": "code",
   "execution_count": 8,
   "metadata": {},
   "outputs": [],
   "source": [
    "# Split feature/target \n",
    "y = df_combined[['Winner']]\n",
    "x = df_combined.drop(columns=['Winner','R_fighter','B_fighter'])"
   ]
  },
  {
   "cell_type": "markdown",
   "metadata": {},
   "source": [
    "### Split 75/25"
   ]
  },
  {
   "cell_type": "code",
   "execution_count": 9,
   "metadata": {},
   "outputs": [],
   "source": [
    "# Split data into training and testing\n",
    "xtrain, xtest, ytrain, ytest = train_test_split(x, y, test_size = 0.25, random_state = 123)"
   ]
  },
  {
   "cell_type": "code",
   "execution_count": 10,
   "metadata": {},
   "outputs": [
    {
     "data": {
      "text/plain": [
       "RandomForestClassifier(max_depth=15, min_samples_split=15, n_estimators=1200)"
      ]
     },
     "execution_count": 10,
     "metadata": {},
     "output_type": "execute_result"
    }
   ],
   "source": [
    "# Start random forest model and fit to training set\n",
    "rclf = RandomForestClassifier(max_depth = 15, min_samples_leaf =  1, min_samples_split =  15, n_estimators =  1200)\n",
    "rclf.fit(xtrain, ytrain.values.ravel())"
   ]
  },
  {
   "cell_type": "markdown",
   "metadata": {},
   "source": [
    "### Scoring"
   ]
  },
  {
   "cell_type": "code",
   "execution_count": 11,
   "metadata": {},
   "outputs": [
    {
     "name": "stdout",
     "output_type": "stream",
     "text": [
      "0.703914590747331\n"
     ]
    }
   ],
   "source": [
    "# Get an intitial look at the accuracy score of the data\n",
    "ypred = rclf.predict(xtest)\n",
    "print(accuracy_score(ytest,ypred))"
   ]
  },
  {
   "cell_type": "code",
   "execution_count": 12,
   "metadata": {},
   "outputs": [],
   "source": [
    "# Create confusion matrix\n",
    "cf_matrix = confusion_matrix(ytest,ypred)"
   ]
  },
  {
   "cell_type": "code",
   "execution_count": 13,
   "metadata": {},
   "outputs": [
    {
     "data": {
      "image/png": "[encoded data removed]",
      "text/plain": [
       "<Figure size 432x288 with 2 Axes>"
      ]
     },
     "metadata": {},
     "output_type": "display_data"
    }
   ],
   "source": [
    "# Plot confusion matrix\n",
    "group_names = ['True Neg','False Pos','False Neg','True Pos']\n",
    "\n",
    "group_counts = [\"{0:0.0f}\".format(value) for value in\n",
    "                cf_matrix.flatten()]\n",
    "\n",
    "group_percentages = [\"{0:.2%}\".format(value) for value in\n",
    "                     cf_matrix.flatten()/np.sum(cf_matrix)]\n",
    "\n",
    "labels = [f\"{v1}\\n{v2}\\n{v3}\" for v1, v2, v3 in\n",
    "          zip(group_names,group_counts,group_percentages)]\n",
    "\n",
    "labels = np.asarray(labels).reshape(2,2)\n",
    "\n",
    "ax = sns.heatmap(cf_matrix, annot=labels, fmt='', cmap='Blues')\n",
    "\n",
    "ax.set_title('Seaborn Confusion Matrix with labels\\n\\n');\n",
    "ax.set_xlabel('\\nPredicted Values')\n",
    "ax.set_ylabel('Actual Values ');\n",
    "\n",
    "## Ticket labels - List must be in alphabetical order\n",
    "ax.xaxis.set_ticklabels(['False','True'])\n",
    "ax.yaxis.set_ticklabels(['False','True'])\n",
    "\n",
    "## Display the visualization of the Confusion Matrix.\n",
    "plt.show()"
   ]
  },
  {
   "cell_type": "markdown",
   "metadata": {},
   "source": [
    "#### https://towardsdatascience.com/understanding-confusion-matrix-a9ad42dcfd62\n",
    "#### https://www.stackvidhya.com/plot-confusion-matrix-in-python-and-why/#:~:text=Plot%20Confusion%20Matrix%20for%20Binary%20Classes%20With%20Labels&text=You%20need%20to%20create%20a,matrix%20with%20the%20labels%20annotation\n"
   ]
  },
  {
   "cell_type": "markdown",
   "metadata": {},
   "source": [
    "### Actual values = True, False\n",
    "### Predicted values = Positive, Negative"
   ]
  },
  {
   "cell_type": "markdown",
   "metadata": {},
   "source": [
    "1 = Positive, True\n",
    "<br>\n",
    "0 = Negative, False"
   ]
  },
  {
   "cell_type": "code",
   "execution_count": 14,
   "metadata": {},
   "outputs": [
    {
     "name": "stdout",
     "output_type": "stream",
     "text": [
      "Precision: 0.719\n",
      "Recall: 0.691\n",
      "Accuracy: 0.704\n",
      "F1 Score: 0.705\n"
     ]
    }
   ],
   "source": [
    "# Print scoring metrics\n",
    "print('Precision: %.3f' % precision_score(ytest, ypred))\n",
    "print('Recall: %.3f' % recall_score(ytest, ypred))\n",
    "print('Accuracy: %.3f' % accuracy_score(ytest, ypred))\n",
    "print('F1 Score: %.3f' % f1_score(ytest, ypred))"
   ]
  },
  {
   "cell_type": "markdown",
   "metadata": {},
   "source": [
    "Precision Score = TP / (FP + TP)\n",
    "<br>\n",
    "Recall Score = TP / (FN + TP)\n",
    "<br>\n",
    "Accuracy Score = (TP + TN)/ (TP + FN + TN + FP)\n",
    "<br>\n",
    "F1 Score = 2* Precision Score * Recall Score/ (Precision Score + Recall Score/)\n"
   ]
  },
  {
   "cell_type": "markdown",
   "metadata": {},
   "source": [
    "#### AUC + ROC"
   ]
  },
  {
   "cell_type": "code",
   "execution_count": 15,
   "metadata": {},
   "outputs": [
    {
     "name": "stdout",
     "output_type": "stream",
     "text": [
      "0.7693407186041514\n"
     ]
    }
   ],
   "source": [
    "# Predict probabilities\n",
    "pred_prob1 = rclf.predict_proba(xtest)\n",
    "\n",
    "# ROC curve for models\n",
    "fpr1, tpr1, thresh1 = roc_curve(ytest, pred_prob1[:,1], pos_label=1)\n",
    "\n",
    "# ROC curve for tpr = fpr \n",
    "random_probs = [0 for i in range(len(ytest))]\n",
    "p_fpr, p_tpr, _ = roc_curve(ytest, random_probs, pos_label=1)\n",
    "\n",
    "\n",
    "# AUC scores\n",
    "auc_score1 = roc_auc_score(ytest, pred_prob1[:,1])\n",
    "\n",
    "print(auc_score1)"
   ]
  },
  {
   "cell_type": "code",
   "execution_count": 16,
   "metadata": {},
   "outputs": [
    {
     "data": {
      "image/png": "[encoded data removed]",
      "text/plain": [
       "<Figure size 576x396 with 1 Axes>"
      ]
     },
     "metadata": {},
     "output_type": "display_data"
    },
    {
     "name": "stdout",
     "output_type": "stream",
     "text": [
      "0.7693407186041514\n"
     ]
    }
   ],
   "source": [
    "# Plot ROC curve\n",
    "plt.style.use('seaborn')\n",
    "\n",
    "# Plot ROC curves\n",
    "plt.plot(fpr1, tpr1, linestyle='--',color='orange', label='Random Forest')\n",
    "plt.plot(p_fpr, p_tpr, linestyle='--', color='blue')\n",
    "plt.title('ROC curve')\n",
    "plt.xlabel('False Positive Rate')\n",
    "plt.ylabel('True Positive rate')\n",
    "plt.legend(loc='best')\n",
    "plt.savefig('ROC',dpi=300)\n",
    "plt.show();\n",
    "print(auc_score1)"
   ]
  },
  {
   "cell_type": "markdown",
   "metadata": {},
   "source": [
    "#### https://www.analyticsvidhya.com/blog/2020/06/auc-roc-curve-machine-learning/"
   ]
  },
  {
   "cell_type": "markdown",
   "metadata": {},
   "source": [
    "### Feature Importance"
   ]
  },
  {
   "cell_type": "code",
   "execution_count": 17,
   "metadata": {},
   "outputs": [],
   "source": [
    "# Assign column names \n",
    "feature_names = ['win_by', 'last_round',\n",
    "       'Agefighter1', 'weight_classfighter1', 'height_cmfighter1',\n",
    "       'reach_cmfighter1', 'Number_of_fightsfighter1',\n",
    "       'win_percentagefighter1', 'O_SLpMfighter1', 'O_StrPctfighter1',\n",
    "       'D_SApMfighter1', 'D_StrPctfighter1', 'O_TdAvgfighter1',\n",
    "       'O_TdAccfighter1', 'O_SubAvgfighter1', 'D_TdPctfighter1', 'Agefighter2',\n",
    "       'weight_classfighter2', 'height_cmfighter2', 'reach_cmfighter2',\n",
    "       'Number_of_fightsfighter2', 'win_percentagefighter2', 'O_SLpMfighter2',\n",
    "       'O_StrPctfighter2', 'D_SApMfighter2', 'D_StrPctfighter2',\n",
    "       'O_TdAvgfighter2', 'O_TdAccfighter2', 'O_SubAvgfighter2',\n",
    "       'D_TdPctfighter2']"
   ]
  },
  {
   "cell_type": "code",
   "execution_count": 18,
   "metadata": {},
   "outputs": [
    {
     "data": {
      "text/plain": [
       "array([0.01691147, 0.00826691, 0.0209703 , 0.01007458, 0.01445617,\n",
       "       0.01753026, 0.0336797 , 0.08752994, 0.0502255 , 0.03580848,\n",
       "       0.03551929, 0.0355686 , 0.03282094, 0.04208691, 0.02272915,\n",
       "       0.04930323, 0.0253614 , 0.00925895, 0.01397035, 0.01813287,\n",
       "       0.03551563, 0.08485114, 0.06508087, 0.0331384 , 0.03299285,\n",
       "       0.03323158, 0.03285023, 0.03229693, 0.02638693, 0.04345046])"
      ]
     },
     "execution_count": 18,
     "metadata": {},
     "output_type": "execute_result"
    }
   ],
   "source": [
    "# Calculate feature importance\n",
    "rclf.feature_importances_"
   ]
  },
  {
   "cell_type": "code",
   "execution_count": 19,
   "metadata": {},
   "outputs": [
    {
     "data": {
      "text/plain": [
       "<BarContainer object of 30 artists>"
      ]
     },
     "execution_count": 19,
     "metadata": {},
     "output_type": "execute_result"
    },
    {
     "data": {
      "image/png": "[encoded data removed]",
      "text/plain": [
       "<Figure size 576x396 with 1 Axes>"
      ]
     },
     "metadata": {},
     "output_type": "display_data"
    }
   ],
   "source": [
    "# Plot feature importance\n",
    "plt.barh(feature_names, rclf.feature_importances_)"
   ]
  },
  {
   "cell_type": "code",
   "execution_count": 20,
   "metadata": {},
   "outputs": [],
   "source": [
    "# Double check \n",
    "feature_imp = pd.Series(rclf.feature_importances_,index=feature_names).sort_values(ascending=False)"
   ]
  },
  {
   "cell_type": "code",
   "execution_count": 21,
   "metadata": {},
   "outputs": [
    {
     "name": "stderr",
     "output_type": "stream",
     "text": [
      "No artists with labels found to put in legend.  Note that artists whose label start with an underscore are ignored when legend() is called with no argument.\n"
     ]
    },
    {
     "data": {
      "image/png": "[encoded data removed]",
      "text/plain": [
       "<Figure size 1080x576 with 1 Axes>"
      ]
     },
     "metadata": {},
     "output_type": "display_data"
    }
   ],
   "source": [
    "# Plot again\n",
    "%matplotlib inline\n",
    "\n",
    "sns.set(rc = {'figure.figsize':(15,8)})\n",
    "sns.barplot(x=feature_imp, y=feature_imp.index)\n",
    "\n",
    "plt.xlabel('Feature Importance Score')\n",
    "plt.ylabel('Features')\n",
    "plt.title(\"Visualizing Important Features\")\n",
    "plt.legend()\n",
    "plt.show()"
   ]
  },
  {
   "cell_type": "markdown",
   "metadata": {},
   "source": [
    "#### https://www.datacamp.com/community/tutorials/random-forests-classifier-python"
   ]
  },
  {
   "cell_type": "markdown",
   "metadata": {},
   "source": [
    "### Hypertuning"
   ]
  },
  {
   "cell_type": "code",
   "execution_count": 72,
   "metadata": {},
   "outputs": [
    {
     "name": "stdout",
     "output_type": "stream",
     "text": [
      "Fitting 3 folds for each of 500 candidates, totalling 1500 fits\n"
     ]
    }
   ],
   "source": [
    "# Check which paramaters will create the best model\n",
    "n_estimators = [100, 300, 500, 800, 1200]\n",
    "max_depth = [5, 8, 15, 25, 30]\n",
    "min_samples_split = [2, 5, 10, 15, 100]\n",
    "min_samples_leaf = [1, 2, 5, 10] \n",
    "\n",
    "hyperF = dict(n_estimators = n_estimators, max_depth = max_depth,  \n",
    "              min_samples_split = min_samples_split, \n",
    "             min_samples_leaf = min_samples_leaf)\n",
    "\n",
    "gridF = GridSearchCV(rclf, hyperF, cv = 3, verbose = 1, \n",
    "                      n_jobs = -1)\n",
    "bestF = gridF.fit(xtrain, ytrain.values.ravel())"
   ]
  },
  {
   "cell_type": "code",
   "execution_count": 74,
   "metadata": {},
   "outputs": [
    {
     "name": "stdout",
     "output_type": "stream",
     "text": [
      "Tuned Hyperparameters : {'max_depth': 15, 'min_samples_leaf': 1, 'min_samples_split': 15, 'n_estimators': 1200}\n",
      "Accuracy : 0.7048907882241217\n"
     ]
    }
   ],
   "source": [
    "# Print tuned hyperparameters\n",
    "print(\"Tuned Hyperparameters :\", gridF.best_params_)\n",
    "print(\"Accuracy :\",gridF.best_score_)"
   ]
  }
 ],
 "metadata": {
  "interpreter": {
   "hash": "aee8b7b246df8f9039afb4144a1f6fd8d2ca17a180786b69acc140d282b71a49"
  },
  "kernelspec": {
   "display_name": "Python 3.7.9 64-bit",
   "language": "python",
   "name": "python3"
  },
  "language_info": {
   "codemirror_mode": {
    "name": "ipython",
    "version": 3
   },
   "file_extension": ".py",
   "mimetype": "text/x-python",
   "name": "python",
   "nbconvert_exporter": "python",
   "pygments_lexer": "ipython3",
   "version": "3.7.9"
  },
  "orig_nbformat": 4
 },
 "nbformat": 4,
 "nbformat_minor": 2
}
